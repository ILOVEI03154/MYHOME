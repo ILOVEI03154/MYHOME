{
 "cells": [
  {
   "cell_type": "code",
   "execution_count": 113,
   "metadata": {},
   "outputs": [
    {
     "name": "stdout",
     "output_type": "stream",
     "text": [
      "[1 3 5 7 9]\n",
      "[[2 4 6]\n",
      " [3 4 5]]\n"
     ]
    }
   ],
   "source": [
    "#简单数组的创建\n",
    "import numpy as np\n",
    "a = np.array([1,3,5,7,9])   #创建一个一维数组\n",
    "b = np.array([[2,4,6],[3,4,5]])   #创建一个二维数组\n",
    "print(a)\n",
    "print(b)"
   ]
  },
  {
   "cell_type": "code",
   "execution_count": 114,
   "metadata": {},
   "outputs": [
    {
     "name": "stdout",
     "output_type": "stream",
     "text": [
      "[3, 445, 6]\n",
      "[  3 445   6]\n"
     ]
    }
   ],
   "source": [
    "#分清楚列表和数组的区别\n",
    "print([3,445,6])    #输出：[3,445,6]（逗号分隔）\n",
    "print(np.array([3,445,6])) #输出：[  3 445   6]（空格分开） "
   ]
  },
  {
   "cell_type": "code",
   "execution_count": 115,
   "metadata": {},
   "outputs": [
    {
     "data": {
      "text/plain": [
       "(5,)"
      ]
     },
     "execution_count": 115,
     "metadata": {},
     "output_type": "execute_result"
    }
   ],
   "source": [
    "a.shape         #使用numpy中的shape来查看数组的形状"
   ]
  },
  {
   "cell_type": "code",
   "execution_count": 116,
   "metadata": {},
   "outputs": [
    {
     "data": {
      "text/plain": [
       "array([[0., 0., 0.],\n",
       "       [0., 0., 0.]])"
      ]
     },
     "execution_count": 116,
     "metadata": {},
     "output_type": "execute_result"
    }
   ],
   "source": [
    "zeros = np.zeros((2,3)) #创建一个2行3列的全零矩阵\n",
    "zeros"
   ]
  },
  {
   "cell_type": "code",
   "execution_count": 117,
   "metadata": {},
   "outputs": [
    {
     "data": {
      "text/plain": [
       "(array([1., 1., 1.]),\n",
       " array([[1., 1.],\n",
       "        [1., 1.]]))"
      ]
     },
     "execution_count": 117,
     "metadata": {},
     "output_type": "execute_result"
    }
   ],
   "source": [
    "#如果列数没有填充就只能在一维数组上进行填充，就跟一维数组似的，若横纵坐标都有则为几行几列的形状\n",
    "#如若出现行数出现空缺则会有报错，就比如c语言中的数组，在创建二维数组时，列数可以不去管，但是行数必须标明\n",
    "ones = np.ones((3,))   #创建一个形状为(3,)的全1数组\n",
    "ones\n",
    "m = np.ones((2,2))\n",
    "ones,m"
   ]
  },
  {
   "cell_type": "code",
   "execution_count": 118,
   "metadata": {},
   "outputs": [
    {
     "data": {
      "text/plain": [
       "array([ 1,  2,  3,  4,  5,  6,  7,  8,  9, 10, 11, 12, 13, 14, 15, 16, 17,\n",
       "       18, 19, 20])"
      ]
     },
     "execution_count": 118,
     "metadata": {},
     "output_type": "execute_result"
    }
   ],
   "source": [
    "#顺序数组的创建\n",
    "arange = np.arange(1,21)    #创建一个从1到10的数组//这里不是创建1-10的数组，\n",
    "#是从1开始小于10的数组，小于后面的范围range的感觉；\n",
    "#例如1-21，才是[ 1,  2,  3,  4,  5,  6,  7,  8,  9, 10, 11, 12, 13, 14, 15, 16, 17,18, 19, 20]\n",
    "arange"
   ]
  },
  {
   "cell_type": "markdown",
   "metadata": {},
   "source": [
    "### 数组的随机化创建\n",
    "1. 在后续深度学习中，我们经常需要对数据进行随机化处理，以确保模型的泛化能力。\n",
    "2. 为了测试很多函数的性能，往往需要随机化生成很多数据。\n",
    "\n",
    "\n",
    "\n",
    "- NumPy随机数生成方法对比\n",
    "\n",
    "| 方法                     | 作用范围/分布       | 记忆口诀               | 典型应用场景           | 示例                     |\n",
    "|--------------------------|-------------------|----------------------|----------------------|--------------------------|\n",
    "| `np.random.randint(a,b)` | [a,b]整数         | \"int\"结尾表示整数      | 生成随机索引/标签      | `np.random.randint(1,10)` → 7 |\n",
    "| `random.random()`        | [0,1)浮点数       | 纯\"random\"最基础      | 简单概率模拟          | `random.random()` → 0.548 |\n",
    "| `np.random.rand()`       | [0,1)均匀分布      | \"rand\"=random+uniform | 蒙特卡洛模拟          | `np.random.rand(3)` → [0.2,0.5,0.8] |\n",
    "| `np.random.randn()`      | 标准正态分布(μ=0,σ=1) | 多一个\"n\"=normal      | 数据标准化/深度学习初始化 | `np.random.randn(2,2)` → [[-0.1,1.2],[0.5,-0.3]] |\n",
    "\n",
    "- 记忆技巧：\n",
    "1. **看结尾**：\n",
    "   - \"int\" → 整数\n",
    "   - \"n\" → 正态(normal)\n",
    "   \n",
    "2. **看前缀**：\n",
    "   - 纯\"random\" → Python基础随机\n",
    "   - \"np.random\" → NumPy增强版\n",
    "\n",
    "3. **功能差异**：\n",
    "   - `rand()`和`random()`都是均匀分布，但`rand()`能直接生成数组\n",
    "   - `randn()`生成的数据会有正有负，其他方法都是非负数"
   ]
  },
  {
   "cell_type": "code",
   "execution_count": 119,
   "metadata": {},
   "outputs": [
    {
     "data": {
      "text/plain": [
       "array([[0.40768703, 0.05536604],\n",
       "       [0.78853488, 0.28730518]])"
      ]
     },
     "execution_count": 119,
     "metadata": {},
     "output_type": "execute_result"
    }
   ],
   "source": [
    "#创建一个2*2的随机数组c,区间为[0,1)\n",
    "c = np.random.rand(2,2)\n",
    "c"
   ]
  },
  {
   "cell_type": "code",
   "execution_count": 120,
   "metadata": {},
   "outputs": [
    {
     "name": "stdout",
     "output_type": "stream",
     "text": [
      "所有成绩:[80.  73.6 81.5 90.2 72.7 72.7 90.8 82.7 70.3 80.4]\n",
      "最高分:90.8(第6个学生)\n",
      "最低分:70.3(第8个学生)\n"
     ]
    }
   ],
   "source": [
    "np.random.seed(42) #设置随机种子以确保结果可重复 ？？？？？重复什么意思，往下看看再说————\n",
    "#随机数怎么跟浙大疏锦行生成的一样难道是一个固定的种子，或者说只要参数为42就可以生成一样的数\n",
    "#生成10个语文成绩（正太分布，均值75，标准差10）\n",
    "chinese_scores = np.random.normal(75,10,10).round(1)\n",
    "\n",
    "#找出最高分和最低分及其索引\n",
    "max_score = np.max(chinese_scores)\n",
    "max_index = np.argmax(chinese_scores)\n",
    "min_score = np.min(chinese_scores)\n",
    "min_index = np.argmin(chinese_scores)\n",
    "\n",
    "print(f\"所有成绩:{chinese_scores}\")\n",
    "print(f\"最高分:{max_score}(第{max_index}个学生)\")\n",
    "print(f\"最低分:{min_score}(第{min_index}个学生)\")"
   ]
  },
  {
   "cell_type": "markdown",
   "metadata": {},
   "source": [
    "数组的遍历"
   ]
  },
  {
   "cell_type": "code",
   "execution_count": 121,
   "metadata": {},
   "outputs": [
    {
     "name": "stdout",
     "output_type": "stream",
     "text": [
      "6\n",
      "10\n",
      "10\n",
      "12\n",
      "12\n",
      "14\n",
      "16\n",
      "20\n",
      "100\n"
     ]
    }
   ],
   "source": [
    "scores = np.array([5, 9, 9, 11, 11, 13, 15, 19])\n",
    "scores += 1     #scores = scores + 1    这里竟然将该数组中的所有数据都加了1\n",
    "sum = 0\n",
    "for i in scores:\n",
    "    print(i)\n",
    "    sum += i\n",
    "print(sum)"
   ]
  },
  {
   "cell_type": "markdown",
   "metadata": {},
   "source": [
    "### 数组的运算\n",
    "\n",
    "1. 矩阵乘法：需要满足第一个矩阵的列数等于第二个矩阵的行数，和线代的矩阵乘法算法相同。\n",
    "2. 矩阵点乘：需要满足两个矩阵的行数和列数相同，然后两个矩阵对应位置的元素相乘。\n",
    "3. 矩阵转置：将矩阵的行和列互换。\n",
    "4. 矩阵求逆：需要满足矩阵是方阵且行列式不为0，然后使用伴随矩阵除以行列式得到逆矩阵。\n",
    "5. 矩阵求行列式：需要满足矩阵是方阵，然后使用代数余子式展开计算行列式。\n"
   ]
  },
  {
   "cell_type": "code",
   "execution_count": 122,
   "metadata": {},
   "outputs": [
    {
     "name": "stdout",
     "output_type": "stream",
     "text": [
      "[[1 2]\n",
      " [3 4]\n",
      " [5 6]]\n",
      "[[ 7  8]\n",
      " [ 9 10]\n",
      " [11 12]]\n"
     ]
    }
   ],
   "source": [
    "a = np.array([[1, 2], [3, 4], [5, 6]])\n",
    "b = np.array([[7, 8], [9, 10], [11, 12]])\n",
    "print(a)\n",
    "print(b)"
   ]
  },
  {
   "cell_type": "code",
   "execution_count": 123,
   "metadata": {},
   "outputs": [
    {
     "name": "stdout",
     "output_type": "stream",
     "text": [
      "[[ 8 10]\n",
      " [12 14]\n",
      " [16 18]]\n"
     ]
    }
   ],
   "source": [
    "print(a + b)        #对应位置相加"
   ]
  },
  {
   "cell_type": "code",
   "execution_count": 124,
   "metadata": {},
   "outputs": [
    {
     "name": "stdout",
     "output_type": "stream",
     "text": [
      "[[-6 -6]\n",
      " [-6 -6]\n",
      " [-6 -6]]\n"
     ]
    }
   ],
   "source": [
    "print(a - b)"
   ]
  },
  {
   "cell_type": "code",
   "execution_count": 125,
   "metadata": {},
   "outputs": [
    {
     "name": "stdout",
     "output_type": "stream",
     "text": [
      "[[0.14285714 0.25      ]\n",
      " [0.33333333 0.4       ]\n",
      " [0.45454545 0.5       ]]\n"
     ]
    }
   ],
   "source": [
    "print(a / b)"
   ]
  },
  {
   "cell_type": "markdown",
   "metadata": {},
   "source": [
    "加上print后是输出的使用空格隔开，数组的显示为使用逗号隔开"
   ]
  },
  {
   "cell_type": "code",
   "execution_count": 126,
   "metadata": {},
   "outputs": [
    {
     "data": {
      "text/plain": [
       "array([[ 7, 16],\n",
       "       [27, 40],\n",
       "       [55, 72]])"
      ]
     },
     "execution_count": 126,
     "metadata": {},
     "output_type": "execute_result"
    }
   ],
   "source": [
    "a * b"
   ]
  },
  {
   "cell_type": "markdown",
   "metadata": {},
   "source": [
    "b.T为b的转置      @为矩阵的乘法而不是a*b时对应元素的相乘返回到原本的位置"
   ]
  },
  {
   "cell_type": "code",
   "execution_count": 127,
   "metadata": {},
   "outputs": [
    {
     "data": {
      "text/plain": [
       "array([[ 23,  29,  35],\n",
       "       [ 53,  67,  81],\n",
       "       [ 83, 105, 127]])"
      ]
     },
     "execution_count": 127,
     "metadata": {},
     "output_type": "execute_result"
    }
   ],
   "source": [
    "a @ b.T   # 矩阵乘法,3*2的矩阵和2*3的矩阵相乘，得到3*3的矩阵"
   ]
  },
  {
   "cell_type": "markdown",
   "metadata": {},
   "source": [
    "数组的索引\n",
    "\n",
    "一维数组的索引"
   ]
  },
  {
   "cell_type": "code",
   "execution_count": 128,
   "metadata": {},
   "outputs": [
    {
     "data": {
      "text/plain": [
       "array([ 1,  3,  5,  7,  8, 10, 12, 13, 14, 15])"
      ]
     },
     "execution_count": 128,
     "metadata": {},
     "output_type": "execute_result"
    }
   ],
   "source": [
    "arr1d = np.array([1,3,5,7,8,10,12,13,14,15])   #创建一个一维数组\n",
    "arr1d"
   ]
  },
  {
   "cell_type": "markdown",
   "metadata": {},
   "source": [
    "这里的使用print与不使用有点区别不知道是不是编译器的问题，但应该是一个问题"
   ]
  },
  {
   "cell_type": "code",
   "execution_count": 129,
   "metadata": {},
   "outputs": [
    {
     "name": "stdout",
     "output_type": "stream",
     "text": [
      "1\n"
     ]
    },
    {
     "data": {
      "text/plain": [
       "np.int64(1)"
      ]
     },
     "execution_count": 129,
     "metadata": {},
     "output_type": "execute_result"
    }
   ],
   "source": [
    "#取第一个元素\n",
    "print(arr1d[0])\n",
    "arr1d[0]"
   ]
  },
  {
   "cell_type": "code",
   "execution_count": 130,
   "metadata": {},
   "outputs": [
    {
     "name": "stdout",
     "output_type": "stream",
     "text": [
      "15\n"
     ]
    },
    {
     "data": {
      "text/plain": [
       "np.int64(15)"
      ]
     },
     "execution_count": 130,
     "metadata": {},
     "output_type": "execute_result"
    }
   ],
   "source": [
    "#取出数组的最后一个元素。-1倒数第一个元素。还有就是这里的print在前是有两个输出，print在后只有print一个输出\n",
    "print(arr1d[-1])\n",
    "arr1d[-1]\n",
    "#不知道为什么，但还是那句话，无伤大雅"
   ]
  },
  {
   "cell_type": "code",
   "execution_count": 131,
   "metadata": {},
   "outputs": [
    {
     "data": {
      "text/plain": [
       "array([ 7, 10, 14])"
      ]
     },
     "execution_count": 131,
     "metadata": {},
     "output_type": "execute_result"
    }
   ],
   "source": [
    "# 3. 取出数组中索引为 3, 5, 8 的元素。\n",
    "# 使用整数数组进行索引，可以一次性取出多个元素。语法是 arr1d[[index1, index2, ...]]。\n",
    "arr1d[[3, 5, 8]]\n",
    "#这里我换了数组给我的感觉这么巧，本质上就是巧了，但是索引值跟随机创建的数组是一一对应的"
   ]
  },
  {
   "cell_type": "code",
   "execution_count": 132,
   "metadata": {},
   "outputs": [
    {
     "data": {
      "text/plain": [
       "array([ 5,  7,  8, 10])"
      ]
     },
     "execution_count": 132,
     "metadata": {},
     "output_type": "execute_result"
    }
   ],
   "source": [
    "# 切片取出索引\n",
    "arr1d[2:6] # 取出索引为2到5的元素（不包括索引6的元素，取左不取右）"
   ]
  },
  {
   "cell_type": "code",
   "execution_count": 133,
   "metadata": {},
   "outputs": [
    {
     "data": {
      "text/plain": [
       "array([1, 3, 5, 7, 8])"
      ]
     },
     "execution_count": 133,
     "metadata": {},
     "output_type": "execute_result"
    }
   ],
   "source": [
    "# 取出数组中从头到索引 5 (不包含 5) 的元素。\n",
    "# 使用切片 slice [:stop]\n",
    "arr1d[:5]       #即为0 ，1，2，3，4"
   ]
  },
  {
   "cell_type": "code",
   "execution_count": 134,
   "metadata": {},
   "outputs": [
    {
     "data": {
      "text/plain": [
       "array([ 8, 10, 12, 13, 14, 15])"
      ]
     },
     "execution_count": 134,
     "metadata": {},
     "output_type": "execute_result"
    }
   ],
   "source": [
    "# 取出数组中从索引 4 到结尾的元素。\n",
    "# 使用切片 slice [start:]\n",
    "arr1d[4:]"
   ]
  },
  {
   "cell_type": "code",
   "execution_count": 135,
   "metadata": {},
   "outputs": [
    {
     "data": {
      "text/plain": [
       "array([ 1,  3,  5,  7,  8, 10, 12, 13, 14, 15])"
      ]
     },
     "execution_count": 135,
     "metadata": {},
     "output_type": "execute_result"
    }
   ],
   "source": [
    "# 取出全部元素\n",
    "arr1d[:]"
   ]
  },
  {
   "cell_type": "code",
   "execution_count": 136,
   "metadata": {},
   "outputs": [
    {
     "data": {
      "text/plain": [
       "array([ 1,  5,  8, 12, 14])"
      ]
     },
     "execution_count": 136,
     "metadata": {},
     "output_type": "execute_result"
    }
   ],
   "source": [
    "# 7取出数组中所有偶数索引对应的元素 (即索引 0, 2, 4, 6, 8)。\n",
    "# 使用带步长的切片 slice [start:stop:step]\n",
    "arr1d[::2]"
   ]
  },
  {
   "cell_type": "markdown",
   "metadata": {},
   "source": [
    "二维数组的索引\n"
   ]
  },
  {
   "cell_type": "code",
   "execution_count": 137,
   "metadata": {},
   "outputs": [
    {
     "data": {
      "text/plain": [
       "array([[ 1,  2,  3,  4],\n",
       "       [ 5,  6,  7,  8],\n",
       "       [ 9, 10, 11, 12],\n",
       "       [13, 14, 15, 16]])"
      ]
     },
     "execution_count": 137,
     "metadata": {},
     "output_type": "execute_result"
    }
   ],
   "source": [
    "# 数组:\n",
    "arr2d = np.array([[1, 2, 3, 4],\n",
    "                  [5, 6, 7, 8],\n",
    "                  [9, 10, 11, 12],\n",
    "                  [13, 14, 15, 16]])\n",
    "arr2d"
   ]
  },
  {
   "cell_type": "markdown",
   "metadata": {},
   "source": [
    "索引顺序：在二维数组 arr2d 里，第一个索引值代表行，第二个索引值代表列。比如 arr2d[i, j] ，i 是行索引，j 是列索引。"
   ]
  },
  {
   "cell_type": "code",
   "execution_count": 138,
   "metadata": {},
   "outputs": [
    {
     "name": "stdout",
     "output_type": "stream",
     "text": [
      "[1 2 3 4]\n"
     ]
    },
    {
     "data": {
      "text/plain": [
       "array([5, 6, 7, 8])"
      ]
     },
     "execution_count": 138,
     "metadata": {},
     "output_type": "execute_result"
    }
   ],
   "source": [
    "# 取出第 1 行 (索引为 1) 的所有元素。\n",
    "#\n",
    "# 使用索引 arr[row_index, :] 或 arr[row_index]\n",
    "print(arr2d[0, :])\n",
    "arr2d[1]"
   ]
  },
  {
   "cell_type": "code",
   "execution_count": 139,
   "metadata": {},
   "outputs": [
    {
     "data": {
      "text/plain": [
       "array([ 3,  7, 11, 15])"
      ]
     },
     "execution_count": 139,
     "metadata": {},
     "output_type": "execute_result"
    }
   ],
   "source": [
    "# 取出第 2 列 (索引为 2) 的所有元素。\n",
    "# 使用索引 arr[:, column_index]\n",
    "#此时冒号不可省略\n",
    "arr2d[:, 2]"
   ]
  },
  {
   "cell_type": "code",
   "execution_count": 140,
   "metadata": {},
   "outputs": [
    {
     "data": {
      "text/plain": [
       "np.int64(12)"
      ]
     },
     "execution_count": 140,
     "metadata": {},
     "output_type": "execute_result"
    }
   ],
   "source": [
    "# 取出位于第 2 行 (索引 2)、第 3 列 (索引 3) 的元素。\n",
    "# 使用 arr[row_index, column_index]\n",
    "arr2d[2, 3]"
   ]
  },
  {
   "cell_type": "code",
   "execution_count": 141,
   "metadata": {},
   "outputs": [
    {
     "data": {
      "text/plain": [
       "array([[ 1,  2,  3,  4],\n",
       "       [ 9, 10, 11, 12]])"
      ]
     },
     "execution_count": 141,
     "metadata": {},
     "output_type": "execute_result"
    }
   ],
   "source": [
    "# 取出由第 0 行和第 2 行组成的新数组。\n",
    "# 使用整数数组作为行索引 arr[[row1, row2, ...], :]\n",
    "arr2d[[0, 2], :]"
   ]
  },
  {
   "cell_type": "code",
   "execution_count": 142,
   "metadata": {},
   "outputs": [
    {
     "data": {
      "text/plain": [
       "array([[ 2,  4],\n",
       "       [ 6,  8],\n",
       "       [10, 12],\n",
       "       [14, 16]])"
      ]
     },
     "execution_count": 142,
     "metadata": {},
     "output_type": "execute_result"
    }
   ],
   "source": [
    "# 取出由第 1 列和第 3 列组成的新数组。\n",
    "# 使用整数数组作为列索引 arr[:, [col1, col2, ...]]\n",
    "arr2d[:, [1, 3]]"
   ]
  },
  {
   "cell_type": "markdown",
   "metadata": {},
   "source": [
    "这里的1:3此时这里的只取索引值为1与2的行或列"
   ]
  },
  {
   "cell_type": "code",
   "execution_count": 143,
   "metadata": {},
   "outputs": [
    {
     "data": {
      "text/plain": [
       "array([[ 6,  7],\n",
       "       [10, 11]])"
      ]
     },
     "execution_count": 143,
     "metadata": {},
     "output_type": "execute_result"
    }
   ],
   "source": [
    "# 取出一个 2x2 的子矩阵，包含元素 6, 7, 10, 11。\n",
    "# 使用切片 slice arr[row_start:row_stop, col_start:col_stop]\n",
    "arr2d[1:3, 1:3]     "
   ]
  },
  {
   "cell_type": "markdown",
   "metadata": {},
   "source": [
    "三维数组的索引【这真是顺口啊，我没看下面的内容一看3，4，5就能顺出3行4列5层哈哈"
   ]
  },
  {
   "cell_type": "code",
   "execution_count": 144,
   "metadata": {},
   "outputs": [
    {
     "data": {
      "text/plain": [
       "array([[[ 0,  1,  2,  3,  4],\n",
       "        [ 5,  6,  7,  8,  9],\n",
       "        [10, 11, 12, 13, 14],\n",
       "        [15, 16, 17, 18, 19]],\n",
       "\n",
       "       [[20, 21, 22, 23, 24],\n",
       "        [25, 26, 27, 28, 29],\n",
       "        [30, 31, 32, 33, 34],\n",
       "        [35, 36, 37, 38, 39]],\n",
       "\n",
       "       [[40, 41, 42, 43, 44],\n",
       "        [45, 46, 47, 48, 49],\n",
       "        [50, 51, 52, 53, 54],\n",
       "        [55, 56, 57, 58, 59]]])"
      ]
     },
     "execution_count": 144,
     "metadata": {},
     "output_type": "execute_result"
    }
   ],
   "source": [
    "arr3d = np.arange(3 * 4 * 5).reshape((3, 4, 5))\n",
    "arr3d "
   ]
  },
  {
   "cell_type": "code",
   "execution_count": 145,
   "metadata": {},
   "outputs": [
    {
     "data": {
      "text/plain": [
       "array([[20, 21, 22, 23, 24],\n",
       "       [25, 26, 27, 28, 29],\n",
       "       [30, 31, 32, 33, 34],\n",
       "       [35, 36, 37, 38, 39]])"
      ]
     },
     "execution_count": 145,
     "metadata": {},
     "output_type": "execute_result"
    }
   ],
   "source": [
    "# 选择特定的层\n",
    "# 使用整数数组 [0, 2] 作为第一个维度 (层) 的索引\n",
    "arr3d[1, :, :]      #这里即第0层第1层第2层的说法后面则与二维数组的索引如初一侧，应是如此，\n",
    "#就比如在学校找一个同学，应是先知道他在几层楼之后在在是某个班级的某个地方\n"
   ]
  },
  {
   "cell_type": "code",
   "execution_count": 146,
   "metadata": {},
   "outputs": [
    {
     "data": {
      "text/plain": [
       "array([[20, 21, 22, 23, 24],\n",
       "       [25, 26, 27, 28, 29]])"
      ]
     },
     "execution_count": 146,
     "metadata": {},
     "output_type": "execute_result"
    }
   ],
   "source": [
    "arr3d[1, 0:2, :]"
   ]
  },
  {
   "cell_type": "code",
   "execution_count": 147,
   "metadata": {},
   "outputs": [
    {
     "data": {
      "text/plain": [
       "array([[22, 23],\n",
       "       [27, 28]])"
      ]
     },
     "execution_count": 147,
     "metadata": {},
     "output_type": "execute_result"
    }
   ],
   "source": [
    "arr3d[1, 0:2, 2:4]"
   ]
  },
  {
   "cell_type": "markdown",
   "metadata": {},
   "source": [
    "SHAP值的深入理解\n",
    "\n",
    "现在重新审视下之前的shap数组\n"
   ]
  },
  {
   "cell_type": "code",
   "execution_count": 148,
   "metadata": {},
   "outputs": [
    {
     "name": "stdout",
     "output_type": "stream",
     "text": [
      "--- 1. 默认参数随机森林 (训练集 -> 测试集) ---\n",
      "训练与预测耗时: 1.1804 秒\n",
      "\n",
      "默认随机森林 在测试集上的分类报告：\n",
      "              precision    recall  f1-score   support\n",
      "\n",
      "           0       0.77      0.97      0.86      1059\n",
      "           1       0.79      0.30      0.43       441\n",
      "\n",
      "    accuracy                           0.77      1500\n",
      "   macro avg       0.78      0.63      0.64      1500\n",
      "weighted avg       0.77      0.77      0.73      1500\n",
      "\n",
      "默认随机森林 在测试集上的混淆矩阵：\n",
      "[[1023   36]\n",
      " [ 309  132]]\n"
     ]
    }
   ],
   "source": [
    "import pandas as pd\n",
    "import pandas as pd    #用于数据处理和分析，可处理表格数据。\n",
    "import numpy as np     #用于数值计算，提供了高效的数组操作。\n",
    "import matplotlib.pyplot as plt    #用于绘制各种类型的图表\n",
    "import seaborn as sns   #基于matplotlib的高级绘图库，能绘制更美观的统计图形。\n",
    "import warnings\n",
    "warnings.filterwarnings(\"ignore\")\n",
    " \n",
    " # 设置中文字体（解决中文显示问题）\n",
    "plt.rcParams['font.sans-serif'] = ['SimHei']  # Windows系统常用黑体字体\n",
    "plt.rcParams['axes.unicode_minus'] = False    # 正常显示负号\n",
    "data = pd.read_csv('data.csv')    #读取数据\n",
    "# 先筛选字符串变量 \n",
    "discrete_features = data.select_dtypes(include=['object']).columns.tolist()\n",
    "# Home Ownership 标签编码\n",
    "home_ownership_mapping = {\n",
    "    'Own Home': 1,\n",
    "    'Rent': 2,\n",
    "    'Have Mortgage': 3,\n",
    "    'Home Mortgage': 4\n",
    "}\n",
    "data['Home Ownership'] = data['Home Ownership'].map(home_ownership_mapping)\n",
    "\n",
    "# Years in current job 标签编码\n",
    "years_in_job_mapping = {\n",
    "    '< 1 year': 1,\n",
    "    '1 year': 2,\n",
    "    '2 years': 3,\n",
    "    '3 years': 4,\n",
    "    '4 years': 5,\n",
    "    '5 years': 6,\n",
    "    '6 years': 7,\n",
    "    '7 years': 8,\n",
    "    '8 years': 9,\n",
    "    '9 years': 10,\n",
    "    '10+ years': 11\n",
    "}\n",
    "data['Years in current job'] = data['Years in current job'].map(years_in_job_mapping)\n",
    "\n",
    "# Purpose 独热编码，记得需要将bool类型转换为数值\n",
    "data = pd.get_dummies(data, columns=['Purpose'])\n",
    "data2 = pd.read_csv(\"data.csv\") # 重新读取数据，用来做列名对比\n",
    "list_final = [] # 新建一个空列表，用于存放独热编码后新增的特征名\n",
    "for i in data.columns:\n",
    "    if i not in data2.columns:\n",
    "       list_final.append(i) # 这里打印出来的就是独热编码后的特征名\n",
    "for i in list_final:\n",
    "    data[i] = data[i].astype(int) # 这里的i就是独热编码后的特征名\n",
    "\n",
    "\n",
    "\n",
    "# Term 0 - 1 映射\n",
    "term_mapping = {\n",
    "    'Short Term': 0,\n",
    "    'Long Term': 1\n",
    "}\n",
    "data['Term'] = data['Term'].map(term_mapping)\n",
    "data.rename(columns={'Term': 'Long Term'}, inplace=True) # 重命名列\n",
    "continuous_features = data.select_dtypes(include=['int64', 'float64']).columns.tolist()  #把筛选出来的列名转换成列表\n",
    " \n",
    " # 连续特征用中位数补全\n",
    "for feature in continuous_features:     \n",
    "    mode_value = data[feature].mode()[0]            #获取该列的众数。\n",
    "    data[feature].fillna(mode_value, inplace=True)          #用众数填充该列的缺失值，inplace=True表示直接在原数据上修改。\n",
    "\n",
    "# 最开始也说了 很多调参函数自带交叉验证，甚至是必选的参数，你如果想要不交叉反而实现起来会麻烦很多\n",
    "# 所以这里我们还是只划分一次数据集\n",
    "from sklearn.model_selection import train_test_split\n",
    "X = data.drop(['Credit Default'], axis=1)  # 特征，axis=1表示按列删除\n",
    "y = data['Credit Default'] # 标签\n",
    "# 按照8:2划分训练集和测试集\n",
    "X_train, X_test, y_train, y_test = train_test_split(X, y, test_size=0.2, random_state=42)  # 80%训练集，20%测试集\n",
    "\n",
    "from sklearn.ensemble import RandomForestClassifier #随机森林分类器\n",
    "\n",
    "from sklearn.metrics import accuracy_score, precision_score, recall_score, f1_score # 用于评估分类器性能的指标\n",
    "from sklearn.metrics import classification_report, confusion_matrix #用于生成分类报告和混淆矩阵\n",
    "import warnings #用于忽略警告信息\n",
    "warnings.filterwarnings(\"ignore\") # 忽略所有警告信息\n",
    "# --- 1. 默认参数的随机森林 ---\n",
    "# 评估基准模型，这里确实不需要验证集\n",
    "print(\"--- 1. 默认参数随机森林 (训练集 -> 测试集) ---\")\n",
    "import time # 这里介绍一个新的库，time库，主要用于时间相关的操作，因为调参需要很长时间，记录下会帮助后人知道大概的时长\n",
    "start_time = time.time() # 记录开始时间\n",
    "rf_model = RandomForestClassifier(random_state=42)\n",
    "rf_model.fit(X_train, y_train) # 在训练集上训练\n",
    "rf_pred = rf_model.predict(X_test) # 在测试集上预测\n",
    "end_time = time.time() # 记录结束时间\n",
    "\n",
    "print(f\"训练与预测耗时: {end_time - start_time:.4f} 秒\")\n",
    "print(\"\\n默认随机森林 在测试集上的分类报告：\")\n",
    "print(classification_report(y_test, rf_pred))\n",
    "print(\"默认随机森林 在测试集上的混淆矩阵：\")\n",
    "print(confusion_matrix(y_test, rf_pred))"
   ]
  },
  {
   "cell_type": "code",
   "execution_count": 149,
   "metadata": {},
   "outputs": [],
   "source": [
    "import shap\n",
    "import matplotlib.pyplot as plt\n",
    "\n",
    "# 初始化 SHAP 解释器\n",
    "explainer = shap.TreeExplainer(rf_model)\n",
    "\n",
    "# 计算 SHAP 值（基于测试集），这个shap_values是一个numpy数组，表示每个特征对每个样本的贡献值\n",
    "# 这里大家先知道这是个numpy数组即可，我们后面学习完numpy在来回头解读这个值\n",
    "shap_values = explainer.shap_values(X_test) # 这个计算耗时"
   ]
  },
  {
   "cell_type": "code",
   "execution_count": 150,
   "metadata": {},
   "outputs": [
    {
     "data": {
      "text/plain": [
       "array([[[ 9.07465700e-03, -9.07465700e-03],\n",
       "        [ 7.21456498e-03, -7.21456498e-03],\n",
       "        [ 4.55189444e-02, -4.55189444e-02],\n",
       "        ...,\n",
       "        [ 7.12857198e-05, -7.12857198e-05],\n",
       "        [ 4.67733508e-05, -4.67733508e-05],\n",
       "        [ 1.61298135e-04, -1.61298135e-04]],\n",
       "\n",
       "       [[-1.02606871e-02,  1.02606871e-02],\n",
       "        [ 1.85572634e-02, -1.85572634e-02],\n",
       "        [-1.64992848e-02,  1.64992848e-02],\n",
       "        ...,\n",
       "        [ 2.00070852e-04, -2.00070852e-04],\n",
       "        [ 5.11798841e-05, -5.11798841e-05],\n",
       "        [ 1.02827796e-04, -1.02827796e-04]],\n",
       "\n",
       "       [[ 3.21529115e-03, -3.21529115e-03],\n",
       "        [ 1.28184070e-02, -1.28184070e-02],\n",
       "        [ 1.02124914e-01, -1.02124914e-01],\n",
       "        ...,\n",
       "        [ 1.73012306e-04, -1.73012306e-04],\n",
       "        [ 4.74133256e-05, -4.74133256e-05],\n",
       "        [ 1.26753231e-04, -1.26753231e-04]],\n",
       "\n",
       "       ...,\n",
       "\n",
       "       [[ 1.15222741e-03, -1.15222741e-03],\n",
       "        [-1.71843266e-02,  1.71843266e-02],\n",
       "        [-3.04994337e-02,  3.04994337e-02],\n",
       "        ...,\n",
       "        [ 1.44859329e-04, -1.44859329e-04],\n",
       "        [ 1.80111014e-05, -1.80111014e-05],\n",
       "        [ 1.30107512e-04, -1.30107512e-04]],\n",
       "\n",
       "       [[ 1.29249120e-03, -1.29249120e-03],\n",
       "        [ 5.66948438e-03, -5.66948438e-03],\n",
       "        [ 2.49050264e-02, -2.49050264e-02],\n",
       "        ...,\n",
       "        [ 2.50590715e-06, -2.50590715e-06],\n",
       "        [ 4.68839113e-05, -4.68839113e-05],\n",
       "        [ 1.15002997e-05, -1.15002997e-05]],\n",
       "\n",
       "       [[-1.12640555e-03,  1.12640555e-03],\n",
       "        [ 1.42648293e-02, -1.42648293e-02],\n",
       "        [ 4.74790019e-02, -4.74790019e-02],\n",
       "        ...,\n",
       "        [ 6.19451775e-05, -6.19451775e-05],\n",
       "        [ 3.30996384e-05, -3.30996384e-05],\n",
       "        [ 4.45219920e-05, -4.45219920e-05]]])"
      ]
     },
     "execution_count": 150,
     "metadata": {},
     "output_type": "execute_result"
    }
   ],
   "source": [
    "shap_values "
   ]
  },
  {
   "cell_type": "code",
   "execution_count": 151,
   "metadata": {},
   "outputs": [
    {
     "data": {
      "text/plain": [
       "array([[ 9.07465700e-03, -9.07465700e-03],\n",
       "       [ 7.21456498e-03, -7.21456498e-03],\n",
       "       [ 4.55189444e-02, -4.55189444e-02],\n",
       "       [ 3.47666501e-04, -3.47666501e-04],\n",
       "       [ 2.57821493e-04, -2.57821493e-04],\n",
       "       [ 2.00758099e-03, -2.00758099e-03],\n",
       "       [-7.54175659e-03,  7.54175659e-03],\n",
       "       [-1.35324163e-03,  1.35324163e-03],\n",
       "       [-7.08191659e-04,  7.08191659e-04],\n",
       "       [-6.06829865e-03,  6.06829865e-03],\n",
       "       [-1.90501403e-03,  1.90501403e-03],\n",
       "       [ 1.44384291e-02, -1.44384291e-02],\n",
       "       [-4.91452434e-02,  4.91452434e-02],\n",
       "       [ 6.28172371e-03, -6.28172371e-03],\n",
       "       [-1.64613559e-02,  1.64613559e-02],\n",
       "       [-6.04576031e-01,  6.04576031e-01],\n",
       "       [ 4.58074016e-04, -4.58074016e-04],\n",
       "       [-1.95125086e-05,  1.95125086e-05],\n",
       "       [-1.47478232e-05,  1.47478232e-05],\n",
       "       [ 6.27274034e-04, -6.27274034e-04],\n",
       "       [-1.26003035e-05,  1.26003035e-05],\n",
       "       [-3.58303017e-04,  3.58303017e-04],\n",
       "       [ 7.89740644e-05, -7.89740644e-05],\n",
       "       [ 2.08492876e-04, -2.08492876e-04],\n",
       "       [ 5.52330472e-06, -5.52330472e-06],\n",
       "       [ 4.11019037e-04, -4.11019037e-04],\n",
       "       [ 7.15614011e-06, -7.15614011e-06],\n",
       "       [ 1.07037925e-04, -1.07037925e-04],\n",
       "       [ 7.12857198e-05, -7.12857198e-05],\n",
       "       [ 4.67733508e-05, -4.67733508e-05],\n",
       "       [ 1.61298135e-04, -1.61298135e-04]])"
      ]
     },
     "execution_count": 151,
     "metadata": {},
     "output_type": "execute_result"
    }
   ],
   "source": [
    "shap_values[0,:,:]"
   ]
  },
  {
   "cell_type": "code",
   "execution_count": 152,
   "metadata": {},
   "outputs": [
    {
     "data": {
      "text/plain": [
       "(31, 2)"
      ]
     },
     "execution_count": 152,
     "metadata": {},
     "output_type": "execute_result"
    }
   ],
   "source": [
    "shap_values[0,:,:].shape"
   ]
  },
  {
   "cell_type": "code",
   "execution_count": 153,
   "metadata": {},
   "outputs": [
    {
     "data": {
      "text/plain": [
       "(1500, 31, 2)"
      ]
     },
     "execution_count": 153,
     "metadata": {},
     "output_type": "execute_result"
    }
   ],
   "source": [
    "# 三个维度\n",
    "# 第一个维度是样本数\n",
    "# 第二个维度是特征数\n",
    "# 第三个维度是类别数\n",
    "shap_values.shape"
   ]
  },
  {
   "cell_type": "code",
   "execution_count": 154,
   "metadata": {},
   "outputs": [
    {
     "data": {
      "text/plain": [
       "array([[ 9.07465700e-03,  7.21456498e-03,  4.55189444e-02, ...,\n",
       "         7.12857198e-05,  4.67733508e-05,  1.61298135e-04],\n",
       "       [-1.02606871e-02,  1.85572634e-02, -1.64992848e-02, ...,\n",
       "         2.00070852e-04,  5.11798841e-05,  1.02827796e-04],\n",
       "       [ 3.21529115e-03,  1.28184070e-02,  1.02124914e-01, ...,\n",
       "         1.73012306e-04,  4.74133256e-05,  1.26753231e-04],\n",
       "       ...,\n",
       "       [ 1.15222741e-03, -1.71843266e-02, -3.04994337e-02, ...,\n",
       "         1.44859329e-04,  1.80111014e-05,  1.30107512e-04],\n",
       "       [ 1.29249120e-03,  5.66948438e-03,  2.49050264e-02, ...,\n",
       "         2.50590715e-06,  4.68839113e-05,  1.15002997e-05],\n",
       "       [-1.12640555e-03,  1.42648293e-02,  4.74790019e-02, ...,\n",
       "         6.19451775e-05,  3.30996384e-05,  4.45219920e-05]])"
      ]
     },
     "execution_count": 154,
     "metadata": {},
     "output_type": "execute_result"
    }
   ],
   "source": [
    "# 比如我想取出所有样本对第一个类别的贡献值\n",
    "#是不是可以理解为第0与第1两个类别\n",
    "shap_values[:,:,0]"
   ]
  },
  {
   "cell_type": "code",
   "execution_count": 155,
   "metadata": {},
   "outputs": [
    {
     "name": "stdout",
     "output_type": "stream",
     "text": [
      "--- 1. SHAP 特征重要性条形图 ---\n"
     ]
    },
    {
     "data": {
      "image/png": "[encoded data removed]",
      "text/plain": [
       "<Figure size 800x950 with 1 Axes>"
      ]
     },
     "metadata": {},
     "output_type": "display_data"
    }
   ],
   "source": [
    "# --- 1. SHAP 特征重要性条形图 (Summary Plot - Bar) ---\n",
    "print(\"--- 1. SHAP 特征重要性条形图 ---\")\n",
    "shap.summary_plot(shap_values[:, :, 0], X_test, plot_type=\"bar\",show=False)  #  这里的show=False表示不直接显示图形,这样可以继续用plt来修改元素，不然就直接输出了\n",
    "plt.title(\"SHAP Feature Importance (Bar Plot)\")\n",
    "plt.show()"
   ]
  }
 ],
 "metadata": {
  "kernelspec": {
   "display_name": "Python 3",
   "language": "python",
   "name": "python3"
  },
  "language_info": {
   "codemirror_mode": {
    "name": "ipython",
    "version": 3
   },
   "file_extension": ".py",
   "mimetype": "text/x-python",
   "name": "python",
   "nbconvert_exporter": "python",
   "pygments_lexer": "ipython3",
   "version": "3.9.21"
  }
 },
 "nbformat": 4,
 "nbformat_minor": 2
}
