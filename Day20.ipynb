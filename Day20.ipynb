{
 "cells": [
  {
   "cell_type": "code",
   "execution_count": null,
   "metadata": {},
   "outputs": [],
   "source": [
    "import pandas as pd\n",
    "import pandas as pd    #用于数据处理和分析，可处理表格数据。\n",
    "import numpy as np     #用于数值计算，提供了高效的数组操作。\n",
    "import matplotlib.pyplot as plt    #用于绘制各种类型的图表\n",
    "import seaborn as sns   #基于matplotlib的高级绘图库，能绘制更美观的统计图形。\n",
    "import warnings\n",
    "warnings.filterwarnings(\"ignore\")\n",
    " \n",
    " # 设置中文字体（解决中文显示问题）\n",
    "plt.rcParams['font.sans-serif'] = ['SimHei']  # Windows系统常用黑体字体\n",
    "plt.rcParams['axes.unicode_minus'] = False    # 正常显示负号\n",
    "data = pd.read_csv('heart.csv')    #读取数据\n",
    "print(data.columns)    #'age', 'sex', 'cp', 'trestbps', 'chol', 'fbs', \n",
    "# 'restecg', 'thalach','exang', 'oldpeak', 'slope', 'ca', 'thal', 'target']\n",
    "#提取连续特征值\n",
    "continuous_features = ['age','trestbps', 'chol', 'thalach','oldpeak']\n",
    "print(continuous_features)    #打印出连续特征值的列名\n",
    "#提取离散特征值\n",
    "discrete_features = ['sex', 'cp', 'fbs', 'restecg', 'exang', 'slope', 'ca', 'thal','target']\n",
    "print(discrete_features)    #打印出离散特征值的列名"
   ]
  }
 ],
 "metadata": {
  "language_info": {
   "name": "python"
  }
 },
 "nbformat": 4,
 "nbformat_minor": 2
}
